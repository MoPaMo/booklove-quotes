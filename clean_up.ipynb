{
 "cells": [
  {
   "cell_type": "code",
   "execution_count": 37,
   "metadata": {},
   "outputs": [],
   "source": [
    "import pandas as pd\n",
    "import math"
   ]
  },
  {
   "cell_type": "code",
   "execution_count": 38,
   "metadata": {},
   "outputs": [],
   "source": [
    "df=pd.read_csv(\"quotes.csv\")"
   ]
  },
  {
   "cell_type": "code",
   "execution_count": 39,
   "metadata": {},
   "outputs": [
    {
     "data": {
      "text/html": [
       "<div>\n",
       "<style scoped>\n",
       "    .dataframe tbody tr th:only-of-type {\n",
       "        vertical-align: middle;\n",
       "    }\n",
       "\n",
       "    .dataframe tbody tr th {\n",
       "        vertical-align: top;\n",
       "    }\n",
       "\n",
       "    .dataframe thead th {\n",
       "        text-align: right;\n",
       "    }\n",
       "</style>\n",
       "<table border=\"1\" class=\"dataframe\">\n",
       "  <thead>\n",
       "    <tr style=\"text-align: right;\">\n",
       "      <th></th>\n",
       "      <th>quotetext</th>\n",
       "      <th>character</th>\n",
       "      <th>title</th>\n",
       "      <th>author</th>\n",
       "      <th>year</th>\n",
       "    </tr>\n",
       "  </thead>\n",
       "  <tbody>\n",
       "    <tr>\n",
       "      <th>0</th>\n",
       "      <td>They gave themselves up wholly to their sorrow...</td>\n",
       "      <td>NaN</td>\n",
       "      <td>Sense and Sensibility</td>\n",
       "      <td>Jane Austen</td>\n",
       "      <td>1811</td>\n",
       "    </tr>\n",
       "    <tr>\n",
       "      <th>1</th>\n",
       "      <td>No sooner was his father's funeral over, than ...</td>\n",
       "      <td>Mrs John Dashwood</td>\n",
       "      <td>Sense and Sensibility</td>\n",
       "      <td>Jane Austen</td>\n",
       "      <td>1811</td>\n",
       "    </tr>\n",
       "    <tr>\n",
       "      <th>2</th>\n",
       "      <td>He was not an ill-disposed young man, unless t...</td>\n",
       "      <td>NaN</td>\n",
       "      <td>Sense and Sensibility</td>\n",
       "      <td>Jane Austen</td>\n",
       "      <td>1811</td>\n",
       "    </tr>\n",
       "    <tr>\n",
       "      <th>3</th>\n",
       "      <td>[...] people always live for ever when there i...</td>\n",
       "      <td>NaN</td>\n",
       "      <td>Sense and Sensibility</td>\n",
       "      <td>Jane Austen</td>\n",
       "      <td>1811</td>\n",
       "    </tr>\n",
       "    <tr>\n",
       "      <th>4</th>\n",
       "      <td>He was not handsome, and his manners required ...</td>\n",
       "      <td>NaN</td>\n",
       "      <td>Sense and Sensibility</td>\n",
       "      <td>Jane Austen</td>\n",
       "      <td>1811</td>\n",
       "    </tr>\n",
       "  </tbody>\n",
       "</table>\n",
       "</div>"
      ],
      "text/plain": [
       "                                           quotetext          character  \\\n",
       "0  They gave themselves up wholly to their sorrow...                NaN   \n",
       "1  No sooner was his father's funeral over, than ...  Mrs John Dashwood   \n",
       "2  He was not an ill-disposed young man, unless t...                NaN   \n",
       "3  [...] people always live for ever when there i...                NaN   \n",
       "4  He was not handsome, and his manners required ...                NaN   \n",
       "\n",
       "                   title       author  year  \n",
       "0  Sense and Sensibility  Jane Austen  1811  \n",
       "1  Sense and Sensibility  Jane Austen  1811  \n",
       "2  Sense and Sensibility  Jane Austen  1811  \n",
       "3  Sense and Sensibility  Jane Austen  1811  \n",
       "4  Sense and Sensibility  Jane Austen  1811  "
      ]
     },
     "execution_count": 39,
     "metadata": {},
     "output_type": "execute_result"
    }
   ],
   "source": [
    "df.head()"
   ]
  },
  {
   "cell_type": "markdown",
   "metadata": {},
   "source": [
    "remove duplicates"
   ]
  },
  {
   "cell_type": "code",
   "execution_count": 40,
   "metadata": {},
   "outputs": [],
   "source": [
    "df = df.drop_duplicates()"
   ]
  },
  {
   "cell_type": "code",
   "execution_count": 41,
   "metadata": {},
   "outputs": [
    {
     "data": {
      "text/html": [
       "<div>\n",
       "<style scoped>\n",
       "    .dataframe tbody tr th:only-of-type {\n",
       "        vertical-align: middle;\n",
       "    }\n",
       "\n",
       "    .dataframe tbody tr th {\n",
       "        vertical-align: top;\n",
       "    }\n",
       "\n",
       "    .dataframe thead th {\n",
       "        text-align: right;\n",
       "    }\n",
       "</style>\n",
       "<table border=\"1\" class=\"dataframe\">\n",
       "  <thead>\n",
       "    <tr style=\"text-align: right;\">\n",
       "      <th></th>\n",
       "      <th>quotetext</th>\n",
       "      <th>character</th>\n",
       "      <th>title</th>\n",
       "      <th>author</th>\n",
       "      <th>year</th>\n",
       "    </tr>\n",
       "  </thead>\n",
       "  <tbody>\n",
       "    <tr>\n",
       "      <th>0</th>\n",
       "      <td>They gave themselves up wholly to their sorrow...</td>\n",
       "      <td>NaN</td>\n",
       "      <td>Sense and Sensibility</td>\n",
       "      <td>Jane Austen</td>\n",
       "      <td>1811</td>\n",
       "    </tr>\n",
       "    <tr>\n",
       "      <th>1</th>\n",
       "      <td>No sooner was his father's funeral over, than ...</td>\n",
       "      <td>Mrs John Dashwood</td>\n",
       "      <td>Sense and Sensibility</td>\n",
       "      <td>Jane Austen</td>\n",
       "      <td>1811</td>\n",
       "    </tr>\n",
       "    <tr>\n",
       "      <th>2</th>\n",
       "      <td>He was not an ill-disposed young man, unless t...</td>\n",
       "      <td>NaN</td>\n",
       "      <td>Sense and Sensibility</td>\n",
       "      <td>Jane Austen</td>\n",
       "      <td>1811</td>\n",
       "    </tr>\n",
       "    <tr>\n",
       "      <th>3</th>\n",
       "      <td>[...] people always live for ever when there i...</td>\n",
       "      <td>NaN</td>\n",
       "      <td>Sense and Sensibility</td>\n",
       "      <td>Jane Austen</td>\n",
       "      <td>1811</td>\n",
       "    </tr>\n",
       "    <tr>\n",
       "      <th>4</th>\n",
       "      <td>He was not handsome, and his manners required ...</td>\n",
       "      <td>NaN</td>\n",
       "      <td>Sense and Sensibility</td>\n",
       "      <td>Jane Austen</td>\n",
       "      <td>1811</td>\n",
       "    </tr>\n",
       "  </tbody>\n",
       "</table>\n",
       "</div>"
      ],
      "text/plain": [
       "                                           quotetext          character  \\\n",
       "0  They gave themselves up wholly to their sorrow...                NaN   \n",
       "1  No sooner was his father's funeral over, than ...  Mrs John Dashwood   \n",
       "2  He was not an ill-disposed young man, unless t...                NaN   \n",
       "3  [...] people always live for ever when there i...                NaN   \n",
       "4  He was not handsome, and his manners required ...                NaN   \n",
       "\n",
       "                   title       author  year  \n",
       "0  Sense and Sensibility  Jane Austen  1811  \n",
       "1  Sense and Sensibility  Jane Austen  1811  \n",
       "2  Sense and Sensibility  Jane Austen  1811  \n",
       "3  Sense and Sensibility  Jane Austen  1811  \n",
       "4  Sense and Sensibility  Jane Austen  1811  "
      ]
     },
     "execution_count": 41,
     "metadata": {},
     "output_type": "execute_result"
    }
   ],
   "source": [
    "df.head()"
   ]
  },
  {
   "cell_type": "code",
   "execution_count": 42,
   "metadata": {},
   "outputs": [
    {
     "data": {
      "text/plain": [
       "1136"
      ]
     },
     "execution_count": 42,
     "metadata": {},
     "output_type": "execute_result"
    }
   ],
   "source": [
    "df.quotetext.size"
   ]
  },
  {
   "cell_type": "markdown",
   "metadata": {},
   "source": [
    "find duplicated quotetexts, take the one with the most info"
   ]
  },
  {
   "cell_type": "code",
   "execution_count": 43,
   "metadata": {},
   "outputs": [],
   "source": [
    "df = df.sort_values(by=['character', 'title', 'author', 'year'], na_position='last')\n",
    "df = df.drop_duplicates(subset='quotetext', keep='last')"
   ]
  },
  {
   "cell_type": "code",
   "execution_count": 44,
   "metadata": {},
   "outputs": [
    {
     "data": {
      "text/html": [
       "<div>\n",
       "<style scoped>\n",
       "    .dataframe tbody tr th:only-of-type {\n",
       "        vertical-align: middle;\n",
       "    }\n",
       "\n",
       "    .dataframe tbody tr th {\n",
       "        vertical-align: top;\n",
       "    }\n",
       "\n",
       "    .dataframe thead th {\n",
       "        text-align: right;\n",
       "    }\n",
       "</style>\n",
       "<table border=\"1\" class=\"dataframe\">\n",
       "  <thead>\n",
       "    <tr style=\"text-align: right;\">\n",
       "      <th></th>\n",
       "      <th>quotetext</th>\n",
       "      <th>character</th>\n",
       "      <th>title</th>\n",
       "      <th>author</th>\n",
       "      <th>year</th>\n",
       "    </tr>\n",
       "  </thead>\n",
       "  <tbody>\n",
       "    <tr>\n",
       "      <th>274</th>\n",
       "      <td>There's a word for that kind of lie. Hope.</td>\n",
       "      <td>NaN</td>\n",
       "      <td>World War Z: An Oral History of the Zombie War</td>\n",
       "      <td>Max Brooks</td>\n",
       "      <td>2006</td>\n",
       "    </tr>\n",
       "    <tr>\n",
       "      <th>275</th>\n",
       "      <td>I'd like to think that's not true. But if it i...</td>\n",
       "      <td>NaN</td>\n",
       "      <td>World War Z: An Oral History of the Zombie War</td>\n",
       "      <td>Max Brooks</td>\n",
       "      <td>2006</td>\n",
       "    </tr>\n",
       "    <tr>\n",
       "      <th>276</th>\n",
       "      <td>They must forever be an example to the rest of...</td>\n",
       "      <td>NaN</td>\n",
       "      <td>World War Z: An Oral History of the Zombie War</td>\n",
       "      <td>Max Brooks</td>\n",
       "      <td>2006</td>\n",
       "    </tr>\n",
       "    <tr>\n",
       "      <th>776</th>\n",
       "      <td>Whatever our souls are made of, his and mine a...</td>\n",
       "      <td>NaN</td>\n",
       "      <td>Wuthering Heights</td>\n",
       "      <td>Emily Brontë</td>\n",
       "      <td>1847</td>\n",
       "    </tr>\n",
       "    <tr>\n",
       "      <th>769</th>\n",
       "      <td>&lt;&lt;&lt;&lt;&lt;&lt;&lt; HEAD</td>\n",
       "      <td>NaN</td>\n",
       "      <td>NaN</td>\n",
       "      <td>NaN</td>\n",
       "      <td>NaN</td>\n",
       "    </tr>\n",
       "  </tbody>\n",
       "</table>\n",
       "</div>"
      ],
      "text/plain": [
       "                                             quotetext character  \\\n",
       "274         There's a word for that kind of lie. Hope.       NaN   \n",
       "275  I'd like to think that's not true. But if it i...       NaN   \n",
       "276  They must forever be an example to the rest of...       NaN   \n",
       "776  Whatever our souls are made of, his and mine a...       NaN   \n",
       "769                                       <<<<<<< HEAD       NaN   \n",
       "\n",
       "                                              title        author  year  \n",
       "274  World War Z: An Oral History of the Zombie War    Max Brooks  2006  \n",
       "275  World War Z: An Oral History of the Zombie War    Max Brooks  2006  \n",
       "276  World War Z: An Oral History of the Zombie War    Max Brooks  2006  \n",
       "776                               Wuthering Heights  Emily Brontë  1847  \n",
       "769                                             NaN           NaN   NaN  "
      ]
     },
     "execution_count": 44,
     "metadata": {},
     "output_type": "execute_result"
    }
   ],
   "source": [
    "df.tail(5)"
   ]
  },
  {
   "cell_type": "code",
   "execution_count": null,
   "metadata": {},
   "outputs": [],
   "source": [
    "df.to_csv(\"quotes.csv\", index=True)"
   ]
  }
 ],
 "metadata": {
  "kernelspec": {
   "display_name": "Python 3",
   "language": "python",
   "name": "python3"
  },
  "language_info": {
   "codemirror_mode": {
    "name": "ipython",
    "version": 3
   },
   "file_extension": ".py",
   "mimetype": "text/x-python",
   "name": "python",
   "nbconvert_exporter": "python",
   "pygments_lexer": "ipython3",
   "version": "3.9.6"
  }
 },
 "nbformat": 4,
 "nbformat_minor": 2
}
