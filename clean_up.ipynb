{
 "cells": [
  {
   "cell_type": "code",
   "execution_count": 31,
   "metadata": {},
   "outputs": [],
   "source": [
    "import pandas as pd\n",
    "import math"
   ]
  },
  {
   "cell_type": "code",
   "execution_count": 32,
   "metadata": {},
   "outputs": [],
   "source": [
    "df=pd.read_csv(\"quotes.csv\")"
   ]
  },
  {
   "cell_type": "code",
   "execution_count": 33,
   "metadata": {},
   "outputs": [
    {
     "data": {
      "text/html": [
       "<div>\n",
       "<style scoped>\n",
       "    .dataframe tbody tr th:only-of-type {\n",
       "        vertical-align: middle;\n",
       "    }\n",
       "\n",
       "    .dataframe tbody tr th {\n",
       "        vertical-align: top;\n",
       "    }\n",
       "\n",
       "    .dataframe thead th {\n",
       "        text-align: right;\n",
       "    }\n",
       "</style>\n",
       "<table border=\"1\" class=\"dataframe\">\n",
       "  <thead>\n",
       "    <tr style=\"text-align: right;\">\n",
       "      <th></th>\n",
       "      <th>quotetext</th>\n",
       "      <th>character</th>\n",
       "      <th>title</th>\n",
       "      <th>author</th>\n",
       "      <th>year</th>\n",
       "    </tr>\n",
       "  </thead>\n",
       "  <tbody>\n",
       "    <tr>\n",
       "      <th>0</th>\n",
       "      <td>Behind every exquisite thing that existed, the...</td>\n",
       "      <td>NaN</td>\n",
       "      <td>\"The Picture of Dorian Gray\"</td>\n",
       "      <td>\"Oscar Wilde\"</td>\n",
       "      <td>1890</td>\n",
       "    </tr>\n",
       "    <tr>\n",
       "      <th>1</th>\n",
       "      <td>Children begin by loving their parents; as the...</td>\n",
       "      <td>NaN</td>\n",
       "      <td>\"The Picture of Dorian Gray\"</td>\n",
       "      <td>\"Oscar Wilde\"</td>\n",
       "      <td>1890</td>\n",
       "    </tr>\n",
       "    <tr>\n",
       "      <th>2</th>\n",
       "      <td>Every portrait that is painted with feeling is...</td>\n",
       "      <td>NaN</td>\n",
       "      <td>\"The Picture of Dorian Gray\"</td>\n",
       "      <td>\"Oscar Wilde\"</td>\n",
       "      <td>1890</td>\n",
       "    </tr>\n",
       "    <tr>\n",
       "      <th>3</th>\n",
       "      <td>Experience is merely the name men gave to thei...</td>\n",
       "      <td>NaN</td>\n",
       "      <td>\"The Picture of Dorian Gray\"</td>\n",
       "      <td>\"Oscar Wilde\"</td>\n",
       "      <td>1890</td>\n",
       "    </tr>\n",
       "    <tr>\n",
       "      <th>4</th>\n",
       "      <td>Mere words! How terrible they were! One could ...</td>\n",
       "      <td>NaN</td>\n",
       "      <td>\"The Picture of Dorian Gray\"</td>\n",
       "      <td>\"Oscar Wilde\"</td>\n",
       "      <td>1890</td>\n",
       "    </tr>\n",
       "  </tbody>\n",
       "</table>\n",
       "</div>"
      ],
      "text/plain": [
       "                                           quotetext character  \\\n",
       "0  Behind every exquisite thing that existed, the...       NaN   \n",
       "1  Children begin by loving their parents; as the...       NaN   \n",
       "2  Every portrait that is painted with feeling is...       NaN   \n",
       "3  Experience is merely the name men gave to thei...       NaN   \n",
       "4  Mere words! How terrible they were! One could ...       NaN   \n",
       "\n",
       "                           title          author  year  \n",
       "0   \"The Picture of Dorian Gray\"   \"Oscar Wilde\"  1890  \n",
       "1   \"The Picture of Dorian Gray\"   \"Oscar Wilde\"  1890  \n",
       "2   \"The Picture of Dorian Gray\"   \"Oscar Wilde\"  1890  \n",
       "3   \"The Picture of Dorian Gray\"   \"Oscar Wilde\"  1890  \n",
       "4   \"The Picture of Dorian Gray\"   \"Oscar Wilde\"  1890  "
      ]
     },
     "execution_count": 33,
     "metadata": {},
     "output_type": "execute_result"
    }
   ],
   "source": [
    "df.head()"
   ]
  },
  {
   "cell_type": "markdown",
   "metadata": {},
   "source": [
    "remove duplicates"
   ]
  },
  {
   "cell_type": "code",
   "execution_count": 34,
   "metadata": {},
   "outputs": [],
   "source": [
    "df = df.drop_duplicates()"
   ]
  },
  {
   "cell_type": "code",
   "execution_count": 35,
   "metadata": {},
   "outputs": [
    {
     "data": {
      "text/html": [
       "<div>\n",
       "<style scoped>\n",
       "    .dataframe tbody tr th:only-of-type {\n",
       "        vertical-align: middle;\n",
       "    }\n",
       "\n",
       "    .dataframe tbody tr th {\n",
       "        vertical-align: top;\n",
       "    }\n",
       "\n",
       "    .dataframe thead th {\n",
       "        text-align: right;\n",
       "    }\n",
       "</style>\n",
       "<table border=\"1\" class=\"dataframe\">\n",
       "  <thead>\n",
       "    <tr style=\"text-align: right;\">\n",
       "      <th></th>\n",
       "      <th>quotetext</th>\n",
       "      <th>character</th>\n",
       "      <th>title</th>\n",
       "      <th>author</th>\n",
       "      <th>year</th>\n",
       "    </tr>\n",
       "  </thead>\n",
       "  <tbody>\n",
       "    <tr>\n",
       "      <th>0</th>\n",
       "      <td>Behind every exquisite thing that existed, the...</td>\n",
       "      <td>NaN</td>\n",
       "      <td>\"The Picture of Dorian Gray\"</td>\n",
       "      <td>\"Oscar Wilde\"</td>\n",
       "      <td>1890</td>\n",
       "    </tr>\n",
       "    <tr>\n",
       "      <th>1</th>\n",
       "      <td>Children begin by loving their parents; as the...</td>\n",
       "      <td>NaN</td>\n",
       "      <td>\"The Picture of Dorian Gray\"</td>\n",
       "      <td>\"Oscar Wilde\"</td>\n",
       "      <td>1890</td>\n",
       "    </tr>\n",
       "    <tr>\n",
       "      <th>2</th>\n",
       "      <td>Every portrait that is painted with feeling is...</td>\n",
       "      <td>NaN</td>\n",
       "      <td>\"The Picture of Dorian Gray\"</td>\n",
       "      <td>\"Oscar Wilde\"</td>\n",
       "      <td>1890</td>\n",
       "    </tr>\n",
       "    <tr>\n",
       "      <th>3</th>\n",
       "      <td>Experience is merely the name men gave to thei...</td>\n",
       "      <td>NaN</td>\n",
       "      <td>\"The Picture of Dorian Gray\"</td>\n",
       "      <td>\"Oscar Wilde\"</td>\n",
       "      <td>1890</td>\n",
       "    </tr>\n",
       "    <tr>\n",
       "      <th>4</th>\n",
       "      <td>Mere words! How terrible they were! One could ...</td>\n",
       "      <td>NaN</td>\n",
       "      <td>\"The Picture of Dorian Gray\"</td>\n",
       "      <td>\"Oscar Wilde\"</td>\n",
       "      <td>1890</td>\n",
       "    </tr>\n",
       "  </tbody>\n",
       "</table>\n",
       "</div>"
      ],
      "text/plain": [
       "                                           quotetext character  \\\n",
       "0  Behind every exquisite thing that existed, the...       NaN   \n",
       "1  Children begin by loving their parents; as the...       NaN   \n",
       "2  Every portrait that is painted with feeling is...       NaN   \n",
       "3  Experience is merely the name men gave to thei...       NaN   \n",
       "4  Mere words! How terrible they were! One could ...       NaN   \n",
       "\n",
       "                           title          author  year  \n",
       "0   \"The Picture of Dorian Gray\"   \"Oscar Wilde\"  1890  \n",
       "1   \"The Picture of Dorian Gray\"   \"Oscar Wilde\"  1890  \n",
       "2   \"The Picture of Dorian Gray\"   \"Oscar Wilde\"  1890  \n",
       "3   \"The Picture of Dorian Gray\"   \"Oscar Wilde\"  1890  \n",
       "4   \"The Picture of Dorian Gray\"   \"Oscar Wilde\"  1890  "
      ]
     },
     "execution_count": 35,
     "metadata": {},
     "output_type": "execute_result"
    }
   ],
   "source": [
    "df.head()"
   ]
  },
  {
   "cell_type": "code",
   "execution_count": 36,
   "metadata": {},
   "outputs": [
    {
     "data": {
      "text/plain": [
       "3261"
      ]
     },
     "execution_count": 36,
     "metadata": {},
     "output_type": "execute_result"
    }
   ],
   "source": [
    "df.quotetext.size"
   ]
  },
  {
   "cell_type": "markdown",
   "metadata": {},
   "source": [
    "find duplicated quotetexts, take the one with the most info"
   ]
  },
  {
   "cell_type": "code",
   "execution_count": 37,
   "metadata": {},
   "outputs": [],
   "source": [
    "df = df.sort_values(by=['character', 'title', 'author', 'year'], na_position='last')\n",
    "df = df.drop_duplicates(subset='quotetext', keep='last')"
   ]
  },
  {
   "cell_type": "code",
   "execution_count": 38,
   "metadata": {},
   "outputs": [
    {
     "data": {
      "text/html": [
       "<div>\n",
       "<style scoped>\n",
       "    .dataframe tbody tr th:only-of-type {\n",
       "        vertical-align: middle;\n",
       "    }\n",
       "\n",
       "    .dataframe tbody tr th {\n",
       "        vertical-align: top;\n",
       "    }\n",
       "\n",
       "    .dataframe thead th {\n",
       "        text-align: right;\n",
       "    }\n",
       "</style>\n",
       "<table border=\"1\" class=\"dataframe\">\n",
       "  <thead>\n",
       "    <tr style=\"text-align: right;\">\n",
       "      <th></th>\n",
       "      <th>quotetext</th>\n",
       "      <th>character</th>\n",
       "      <th>title</th>\n",
       "      <th>author</th>\n",
       "      <th>year</th>\n",
       "    </tr>\n",
       "  </thead>\n",
       "  <tbody>\n",
       "    <tr>\n",
       "      <th>3105</th>\n",
       "      <td>You see, I get so much fun out of thinking tha...</td>\n",
       "      <td>NaN</td>\n",
       "      <td>NaN</td>\n",
       "      <td>Richard Feynman</td>\n",
       "      <td>NaN</td>\n",
       "    </tr>\n",
       "    <tr>\n",
       "      <th>3106</th>\n",
       "      <td>The first principle is that you must not fool ...</td>\n",
       "      <td>NaN</td>\n",
       "      <td>NaN</td>\n",
       "      <td>Richard Feynman</td>\n",
       "      <td>NaN</td>\n",
       "    </tr>\n",
       "    <tr>\n",
       "      <th>3107</th>\n",
       "      <td>You have to have absolute confidence. Keep rig...</td>\n",
       "      <td>NaN</td>\n",
       "      <td>NaN</td>\n",
       "      <td>Richard Feynman</td>\n",
       "      <td>NaN</td>\n",
       "    </tr>\n",
       "    <tr>\n",
       "      <th>3108</th>\n",
       "      <td>I don’t know what’s the matter with people: th...</td>\n",
       "      <td>NaN</td>\n",
       "      <td>NaN</td>\n",
       "      <td>Richard Feynman</td>\n",
       "      <td>NaN</td>\n",
       "    </tr>\n",
       "    <tr>\n",
       "      <th>3109</th>\n",
       "      <td>That was a very good way to get educated, work...</td>\n",
       "      <td>NaN</td>\n",
       "      <td>NaN</td>\n",
       "      <td>Richard Feynman</td>\n",
       "      <td>NaN</td>\n",
       "    </tr>\n",
       "  </tbody>\n",
       "</table>\n",
       "</div>"
      ],
      "text/plain": [
       "                                              quotetext character title  \\\n",
       "3105  You see, I get so much fun out of thinking tha...       NaN   NaN   \n",
       "3106  The first principle is that you must not fool ...       NaN   NaN   \n",
       "3107  You have to have absolute confidence. Keep rig...       NaN   NaN   \n",
       "3108  I don’t know what’s the matter with people: th...       NaN   NaN   \n",
       "3109  That was a very good way to get educated, work...       NaN   NaN   \n",
       "\n",
       "               author year  \n",
       "3105  Richard Feynman  NaN  \n",
       "3106  Richard Feynman  NaN  \n",
       "3107  Richard Feynman  NaN  \n",
       "3108  Richard Feynman  NaN  \n",
       "3109  Richard Feynman  NaN  "
      ]
     },
     "execution_count": 38,
     "metadata": {},
     "output_type": "execute_result"
    }
   ],
   "source": [
    "df.tail(5)"
   ]
  },
  {
   "cell_type": "code",
   "execution_count": 39,
   "metadata": {},
   "outputs": [],
   "source": [
    "df = df.sort_values(by=['author', 'year', 'title', 'character', 'quotetext'], na_position='last')"
   ]
  },
  {
   "cell_type": "code",
   "execution_count": 40,
   "metadata": {},
   "outputs": [],
   "source": [
    "df.to_csv(\"quotes.csv\", index=False)\n"
   ]
  }
 ],
 "metadata": {
  "kernelspec": {
   "display_name": "Python 3",
   "language": "python",
   "name": "python3"
  },
  "language_info": {
   "codemirror_mode": {
    "name": "ipython",
    "version": 3
   },
   "file_extension": ".py",
   "mimetype": "text/x-python",
   "name": "python",
   "nbconvert_exporter": "python",
   "pygments_lexer": "ipython3",
   "version": "3.9.6"
  }
 },
 "nbformat": 4,
 "nbformat_minor": 2
}
