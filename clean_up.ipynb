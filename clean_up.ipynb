{
 "cells": [
  {
   "cell_type": "code",
   "execution_count": 20,
   "metadata": {},
   "outputs": [],
   "source": [
    "import pandas as pd\n",
    "import math"
   ]
  },
  {
   "cell_type": "code",
   "execution_count": 21,
   "metadata": {},
   "outputs": [],
   "source": [
    "df=pd.read_csv(\"quotes.csv\")"
   ]
  },
  {
   "cell_type": "code",
   "execution_count": 22,
   "metadata": {},
   "outputs": [
    {
     "data": {
      "text/html": [
       "<div>\n",
       "<style scoped>\n",
       "    .dataframe tbody tr th:only-of-type {\n",
       "        vertical-align: middle;\n",
       "    }\n",
       "\n",
       "    .dataframe tbody tr th {\n",
       "        vertical-align: top;\n",
       "    }\n",
       "\n",
       "    .dataframe thead th {\n",
       "        text-align: right;\n",
       "    }\n",
       "</style>\n",
       "<table border=\"1\" class=\"dataframe\">\n",
       "  <thead>\n",
       "    <tr style=\"text-align: right;\">\n",
       "      <th></th>\n",
       "      <th>quotetext</th>\n",
       "      <th>character</th>\n",
       "      <th>title</th>\n",
       "      <th>author</th>\n",
       "      <th>year</th>\n",
       "    </tr>\n",
       "  </thead>\n",
       "  <tbody>\n",
       "    <tr>\n",
       "      <th>0</th>\n",
       "      <td>Behind every exquisite thing that existed, the...</td>\n",
       "      <td>NaN</td>\n",
       "      <td>\"The Picture of Dorian Gray\"</td>\n",
       "      <td>\"Oscar Wilde\"</td>\n",
       "      <td>1890</td>\n",
       "    </tr>\n",
       "    <tr>\n",
       "      <th>1</th>\n",
       "      <td>Children begin by loving their parents; as the...</td>\n",
       "      <td>NaN</td>\n",
       "      <td>\"The Picture of Dorian Gray\"</td>\n",
       "      <td>\"Oscar Wilde\"</td>\n",
       "      <td>1890</td>\n",
       "    </tr>\n",
       "    <tr>\n",
       "      <th>2</th>\n",
       "      <td>Every portrait that is painted with feeling is...</td>\n",
       "      <td>NaN</td>\n",
       "      <td>\"The Picture of Dorian Gray\"</td>\n",
       "      <td>\"Oscar Wilde\"</td>\n",
       "      <td>1890</td>\n",
       "    </tr>\n",
       "    <tr>\n",
       "      <th>3</th>\n",
       "      <td>Experience is merely the name men gave to thei...</td>\n",
       "      <td>NaN</td>\n",
       "      <td>\"The Picture of Dorian Gray\"</td>\n",
       "      <td>\"Oscar Wilde\"</td>\n",
       "      <td>1890</td>\n",
       "    </tr>\n",
       "    <tr>\n",
       "      <th>4</th>\n",
       "      <td>Mere words! How terrible they were! One could ...</td>\n",
       "      <td>NaN</td>\n",
       "      <td>\"The Picture of Dorian Gray\"</td>\n",
       "      <td>\"Oscar Wilde\"</td>\n",
       "      <td>1890</td>\n",
       "    </tr>\n",
       "  </tbody>\n",
       "</table>\n",
       "</div>"
      ],
      "text/plain": [
       "                                           quotetext character  \\\n",
       "0  Behind every exquisite thing that existed, the...       NaN   \n",
       "1  Children begin by loving their parents; as the...       NaN   \n",
       "2  Every portrait that is painted with feeling is...       NaN   \n",
       "3  Experience is merely the name men gave to thei...       NaN   \n",
       "4  Mere words! How terrible they were! One could ...       NaN   \n",
       "\n",
       "                           title          author  year  \n",
       "0   \"The Picture of Dorian Gray\"   \"Oscar Wilde\"  1890  \n",
       "1   \"The Picture of Dorian Gray\"   \"Oscar Wilde\"  1890  \n",
       "2   \"The Picture of Dorian Gray\"   \"Oscar Wilde\"  1890  \n",
       "3   \"The Picture of Dorian Gray\"   \"Oscar Wilde\"  1890  \n",
       "4   \"The Picture of Dorian Gray\"   \"Oscar Wilde\"  1890  "
      ]
     },
     "execution_count": 22,
     "metadata": {},
     "output_type": "execute_result"
    }
   ],
   "source": [
    "df.head()"
   ]
  },
  {
   "cell_type": "markdown",
   "metadata": {},
   "source": [
    "remove duplicates"
   ]
  },
  {
   "cell_type": "code",
   "execution_count": 23,
   "metadata": {},
   "outputs": [],
   "source": [
    "df = df.drop_duplicates()"
   ]
  },
  {
   "cell_type": "code",
   "execution_count": 24,
   "metadata": {},
   "outputs": [
    {
     "data": {
      "text/html": [
       "<div>\n",
       "<style scoped>\n",
       "    .dataframe tbody tr th:only-of-type {\n",
       "        vertical-align: middle;\n",
       "    }\n",
       "\n",
       "    .dataframe tbody tr th {\n",
       "        vertical-align: top;\n",
       "    }\n",
       "\n",
       "    .dataframe thead th {\n",
       "        text-align: right;\n",
       "    }\n",
       "</style>\n",
       "<table border=\"1\" class=\"dataframe\">\n",
       "  <thead>\n",
       "    <tr style=\"text-align: right;\">\n",
       "      <th></th>\n",
       "      <th>quotetext</th>\n",
       "      <th>character</th>\n",
       "      <th>title</th>\n",
       "      <th>author</th>\n",
       "      <th>year</th>\n",
       "    </tr>\n",
       "  </thead>\n",
       "  <tbody>\n",
       "    <tr>\n",
       "      <th>0</th>\n",
       "      <td>Behind every exquisite thing that existed, the...</td>\n",
       "      <td>NaN</td>\n",
       "      <td>\"The Picture of Dorian Gray\"</td>\n",
       "      <td>\"Oscar Wilde\"</td>\n",
       "      <td>1890</td>\n",
       "    </tr>\n",
       "    <tr>\n",
       "      <th>1</th>\n",
       "      <td>Children begin by loving their parents; as the...</td>\n",
       "      <td>NaN</td>\n",
       "      <td>\"The Picture of Dorian Gray\"</td>\n",
       "      <td>\"Oscar Wilde\"</td>\n",
       "      <td>1890</td>\n",
       "    </tr>\n",
       "    <tr>\n",
       "      <th>2</th>\n",
       "      <td>Every portrait that is painted with feeling is...</td>\n",
       "      <td>NaN</td>\n",
       "      <td>\"The Picture of Dorian Gray\"</td>\n",
       "      <td>\"Oscar Wilde\"</td>\n",
       "      <td>1890</td>\n",
       "    </tr>\n",
       "    <tr>\n",
       "      <th>3</th>\n",
       "      <td>Experience is merely the name men gave to thei...</td>\n",
       "      <td>NaN</td>\n",
       "      <td>\"The Picture of Dorian Gray\"</td>\n",
       "      <td>\"Oscar Wilde\"</td>\n",
       "      <td>1890</td>\n",
       "    </tr>\n",
       "    <tr>\n",
       "      <th>4</th>\n",
       "      <td>Mere words! How terrible they were! One could ...</td>\n",
       "      <td>NaN</td>\n",
       "      <td>\"The Picture of Dorian Gray\"</td>\n",
       "      <td>\"Oscar Wilde\"</td>\n",
       "      <td>1890</td>\n",
       "    </tr>\n",
       "  </tbody>\n",
       "</table>\n",
       "</div>"
      ],
      "text/plain": [
       "                                           quotetext character  \\\n",
       "0  Behind every exquisite thing that existed, the...       NaN   \n",
       "1  Children begin by loving their parents; as the...       NaN   \n",
       "2  Every portrait that is painted with feeling is...       NaN   \n",
       "3  Experience is merely the name men gave to thei...       NaN   \n",
       "4  Mere words! How terrible they were! One could ...       NaN   \n",
       "\n",
       "                           title          author  year  \n",
       "0   \"The Picture of Dorian Gray\"   \"Oscar Wilde\"  1890  \n",
       "1   \"The Picture of Dorian Gray\"   \"Oscar Wilde\"  1890  \n",
       "2   \"The Picture of Dorian Gray\"   \"Oscar Wilde\"  1890  \n",
       "3   \"The Picture of Dorian Gray\"   \"Oscar Wilde\"  1890  \n",
       "4   \"The Picture of Dorian Gray\"   \"Oscar Wilde\"  1890  "
      ]
     },
     "execution_count": 24,
     "metadata": {},
     "output_type": "execute_result"
    }
   ],
   "source": [
    "df.head()"
   ]
  },
  {
   "cell_type": "code",
   "execution_count": 25,
   "metadata": {},
   "outputs": [
    {
     "data": {
      "text/plain": [
       "3243"
      ]
     },
     "execution_count": 25,
     "metadata": {},
     "output_type": "execute_result"
    }
   ],
   "source": [
    "df.quotetext.size"
   ]
  },
  {
   "cell_type": "markdown",
   "metadata": {},
   "source": [
    "find duplicated quotetexts, take the one with the most info"
   ]
  },
  {
   "cell_type": "code",
   "execution_count": 26,
   "metadata": {},
   "outputs": [],
   "source": [
    "df = df.sort_values(by=['character', 'title', 'author', 'year'], na_position='last')\n",
    "df = df.drop_duplicates(subset='quotetext', keep='last')"
   ]
  },
  {
   "cell_type": "code",
   "execution_count": 27,
   "metadata": {},
   "outputs": [
    {
     "data": {
      "text/html": [
       "<div>\n",
       "<style scoped>\n",
       "    .dataframe tbody tr th:only-of-type {\n",
       "        vertical-align: middle;\n",
       "    }\n",
       "\n",
       "    .dataframe tbody tr th {\n",
       "        vertical-align: top;\n",
       "    }\n",
       "\n",
       "    .dataframe thead th {\n",
       "        text-align: right;\n",
       "    }\n",
       "</style>\n",
       "<table border=\"1\" class=\"dataframe\">\n",
       "  <thead>\n",
       "    <tr style=\"text-align: right;\">\n",
       "      <th></th>\n",
       "      <th>quotetext</th>\n",
       "      <th>character</th>\n",
       "      <th>title</th>\n",
       "      <th>author</th>\n",
       "      <th>year</th>\n",
       "    </tr>\n",
       "  </thead>\n",
       "  <tbody>\n",
       "    <tr>\n",
       "      <th>375</th>\n",
       "      <td>America is big enough to accommodate all their...</td>\n",
       "      <td>NaN</td>\n",
       "      <td>NaN</td>\n",
       "      <td>Barack Obama</td>\n",
       "      <td>2006</td>\n",
       "    </tr>\n",
       "    <tr>\n",
       "      <th>376</th>\n",
       "      <td>Faith doesn't mean that you don't have doubts....</td>\n",
       "      <td>NaN</td>\n",
       "      <td>NaN</td>\n",
       "      <td>Barack Obama</td>\n",
       "      <td>2006</td>\n",
       "    </tr>\n",
       "    <tr>\n",
       "      <th>377</th>\n",
       "      <td>I believe a stronger sense of empathy would ti...</td>\n",
       "      <td>NaN</td>\n",
       "      <td>NaN</td>\n",
       "      <td>Barack Obama</td>\n",
       "      <td>2006</td>\n",
       "    </tr>\n",
       "    <tr>\n",
       "      <th>378</th>\n",
       "      <td>I believe in evolution, scientific inquiry, an...</td>\n",
       "      <td>NaN</td>\n",
       "      <td>NaN</td>\n",
       "      <td>Barack Obama</td>\n",
       "      <td>2006</td>\n",
       "    </tr>\n",
       "    <tr>\n",
       "      <th>379</th>\n",
       "      <td>No, what's troubling is the gap between the ma...</td>\n",
       "      <td>NaN</td>\n",
       "      <td>NaN</td>\n",
       "      <td>Barack Obama</td>\n",
       "      <td>2006</td>\n",
       "    </tr>\n",
       "  </tbody>\n",
       "</table>\n",
       "</div>"
      ],
      "text/plain": [
       "                                             quotetext character title  \\\n",
       "375  America is big enough to accommodate all their...       NaN   NaN   \n",
       "376  Faith doesn't mean that you don't have doubts....       NaN   NaN   \n",
       "377  I believe a stronger sense of empathy would ti...       NaN   NaN   \n",
       "378  I believe in evolution, scientific inquiry, an...       NaN   NaN   \n",
       "379  No, what's troubling is the gap between the ma...       NaN   NaN   \n",
       "\n",
       "           author  year  \n",
       "375  Barack Obama  2006  \n",
       "376  Barack Obama  2006  \n",
       "377  Barack Obama  2006  \n",
       "378  Barack Obama  2006  \n",
       "379  Barack Obama  2006  "
      ]
     },
     "execution_count": 27,
     "metadata": {},
     "output_type": "execute_result"
    }
   ],
   "source": [
    "df.tail(5)"
   ]
  },
  {
   "cell_type": "code",
   "execution_count": 28,
   "metadata": {},
   "outputs": [],
   "source": [
    "df = df.sort_values(by=['author', 'year', 'title', 'character', 'quotetext'], na_position='last')"
   ]
  },
  {
   "cell_type": "code",
   "execution_count": 29,
   "metadata": {},
   "outputs": [],
   "source": [
    "df.to_csv(\"quotes.csv\", index=False)\n"
   ]
  }
 ],
 "metadata": {
  "kernelspec": {
   "display_name": "Python 3",
   "language": "python",
   "name": "python3"
  },
  "language_info": {
   "codemirror_mode": {
    "name": "ipython",
    "version": 3
   },
   "file_extension": ".py",
   "mimetype": "text/x-python",
   "name": "python",
   "nbconvert_exporter": "python",
   "pygments_lexer": "ipython3",
   "version": "3.9.6"
  }
 },
 "nbformat": 4,
 "nbformat_minor": 2
}
