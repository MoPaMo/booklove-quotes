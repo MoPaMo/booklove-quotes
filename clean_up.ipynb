{
 "cells": [
  {
   "cell_type": "code",
   "execution_count": 145,
   "metadata": {},
   "outputs": [],
   "source": [
    "import pandas as pd\n",
    "import math"
   ]
  },
  {
   "cell_type": "code",
   "execution_count": 146,
   "metadata": {},
   "outputs": [],
   "source": [
    "df=pd.read_csv(\"quotes.csv\")"
   ]
  },
  {
   "cell_type": "code",
   "execution_count": 147,
   "metadata": {},
   "outputs": [
    {
     "data": {
      "text/html": [
       "<div>\n",
       "<style scoped>\n",
       "    .dataframe tbody tr th:only-of-type {\n",
       "        vertical-align: middle;\n",
       "    }\n",
       "\n",
       "    .dataframe tbody tr th {\n",
       "        vertical-align: top;\n",
       "    }\n",
       "\n",
       "    .dataframe thead th {\n",
       "        text-align: right;\n",
       "    }\n",
       "</style>\n",
       "<table border=\"1\" class=\"dataframe\">\n",
       "  <thead>\n",
       "    <tr style=\"text-align: right;\">\n",
       "      <th></th>\n",
       "      <th>quotetext</th>\n",
       "      <th>character</th>\n",
       "      <th>title</th>\n",
       "      <th>author</th>\n",
       "      <th>year</th>\n",
       "    </tr>\n",
       "  </thead>\n",
       "  <tbody>\n",
       "    <tr>\n",
       "      <th>0</th>\n",
       "      <td>Maybe 'okay' will be our 'always.</td>\n",
       "      <td>NaN</td>\n",
       "      <td>'The Fault in Our Stars'</td>\n",
       "      <td>'John Green'</td>\n",
       "      <td>2012</td>\n",
       "    </tr>\n",
       "    <tr>\n",
       "      <th>1</th>\n",
       "      <td>I wonder what Piglet is doing. I wish I were t...</td>\n",
       "      <td>Pooh</td>\n",
       "      <td>Winnie-the-Pooh</td>\n",
       "      <td>A.A. Milne</td>\n",
       "      <td>1926</td>\n",
       "    </tr>\n",
       "    <tr>\n",
       "      <th>2</th>\n",
       "      <td>Be sure thy sin will find thee out.</td>\n",
       "      <td>NaN</td>\n",
       "      <td>And Then There Were None</td>\n",
       "      <td>Agatha Christie</td>\n",
       "      <td>1939</td>\n",
       "    </tr>\n",
       "    <tr>\n",
       "      <th>3</th>\n",
       "      <td>Best of an island is once you get there - you ...</td>\n",
       "      <td>NaN</td>\n",
       "      <td>And Then There Were None</td>\n",
       "      <td>Agatha Christie</td>\n",
       "      <td>1939</td>\n",
       "    </tr>\n",
       "    <tr>\n",
       "      <th>4</th>\n",
       "      <td>But no artist, I now realize, can be satisfied...</td>\n",
       "      <td>NaN</td>\n",
       "      <td>And Then There Were None</td>\n",
       "      <td>Agatha Christie</td>\n",
       "      <td>1939</td>\n",
       "    </tr>\n",
       "  </tbody>\n",
       "</table>\n",
       "</div>"
      ],
      "text/plain": [
       "                                           quotetext character  \\\n",
       "0                  Maybe 'okay' will be our 'always.       NaN   \n",
       "1  I wonder what Piglet is doing. I wish I were t...      Pooh   \n",
       "2                Be sure thy sin will find thee out.       NaN   \n",
       "3  Best of an island is once you get there - you ...       NaN   \n",
       "4  But no artist, I now realize, can be satisfied...       NaN   \n",
       "\n",
       "                      title           author  year  \n",
       "0  'The Fault in Our Stars'     'John Green'  2012  \n",
       "1           Winnie-the-Pooh       A.A. Milne  1926  \n",
       "2  And Then There Were None  Agatha Christie  1939  \n",
       "3  And Then There Were None  Agatha Christie  1939  \n",
       "4  And Then There Were None  Agatha Christie  1939  "
      ]
     },
     "execution_count": 147,
     "metadata": {},
     "output_type": "execute_result"
    }
   ],
   "source": [
    "df.head()"
   ]
  },
  {
   "cell_type": "markdown",
   "metadata": {},
   "source": [
    "remove duplicates"
   ]
  },
  {
   "cell_type": "code",
   "execution_count": 148,
   "metadata": {},
   "outputs": [],
   "source": [
    "df = df.drop_duplicates()"
   ]
  },
  {
   "cell_type": "code",
   "execution_count": 149,
   "metadata": {},
   "outputs": [
    {
     "data": {
      "text/html": [
       "<div>\n",
       "<style scoped>\n",
       "    .dataframe tbody tr th:only-of-type {\n",
       "        vertical-align: middle;\n",
       "    }\n",
       "\n",
       "    .dataframe tbody tr th {\n",
       "        vertical-align: top;\n",
       "    }\n",
       "\n",
       "    .dataframe thead th {\n",
       "        text-align: right;\n",
       "    }\n",
       "</style>\n",
       "<table border=\"1\" class=\"dataframe\">\n",
       "  <thead>\n",
       "    <tr style=\"text-align: right;\">\n",
       "      <th></th>\n",
       "      <th>quotetext</th>\n",
       "      <th>character</th>\n",
       "      <th>title</th>\n",
       "      <th>author</th>\n",
       "      <th>year</th>\n",
       "    </tr>\n",
       "  </thead>\n",
       "  <tbody>\n",
       "    <tr>\n",
       "      <th>0</th>\n",
       "      <td>Maybe 'okay' will be our 'always.</td>\n",
       "      <td>NaN</td>\n",
       "      <td>'The Fault in Our Stars'</td>\n",
       "      <td>'John Green'</td>\n",
       "      <td>2012</td>\n",
       "    </tr>\n",
       "    <tr>\n",
       "      <th>1</th>\n",
       "      <td>I wonder what Piglet is doing. I wish I were t...</td>\n",
       "      <td>Pooh</td>\n",
       "      <td>Winnie-the-Pooh</td>\n",
       "      <td>A.A. Milne</td>\n",
       "      <td>1926</td>\n",
       "    </tr>\n",
       "    <tr>\n",
       "      <th>2</th>\n",
       "      <td>Be sure thy sin will find thee out.</td>\n",
       "      <td>NaN</td>\n",
       "      <td>And Then There Were None</td>\n",
       "      <td>Agatha Christie</td>\n",
       "      <td>1939</td>\n",
       "    </tr>\n",
       "    <tr>\n",
       "      <th>3</th>\n",
       "      <td>Best of an island is once you get there - you ...</td>\n",
       "      <td>NaN</td>\n",
       "      <td>And Then There Were None</td>\n",
       "      <td>Agatha Christie</td>\n",
       "      <td>1939</td>\n",
       "    </tr>\n",
       "    <tr>\n",
       "      <th>4</th>\n",
       "      <td>But no artist, I now realize, can be satisfied...</td>\n",
       "      <td>NaN</td>\n",
       "      <td>And Then There Were None</td>\n",
       "      <td>Agatha Christie</td>\n",
       "      <td>1939</td>\n",
       "    </tr>\n",
       "  </tbody>\n",
       "</table>\n",
       "</div>"
      ],
      "text/plain": [
       "                                           quotetext character  \\\n",
       "0                  Maybe 'okay' will be our 'always.       NaN   \n",
       "1  I wonder what Piglet is doing. I wish I were t...      Pooh   \n",
       "2                Be sure thy sin will find thee out.       NaN   \n",
       "3  Best of an island is once you get there - you ...       NaN   \n",
       "4  But no artist, I now realize, can be satisfied...       NaN   \n",
       "\n",
       "                      title           author  year  \n",
       "0  'The Fault in Our Stars'     'John Green'  2012  \n",
       "1           Winnie-the-Pooh       A.A. Milne  1926  \n",
       "2  And Then There Were None  Agatha Christie  1939  \n",
       "3  And Then There Were None  Agatha Christie  1939  \n",
       "4  And Then There Were None  Agatha Christie  1939  "
      ]
     },
     "execution_count": 149,
     "metadata": {},
     "output_type": "execute_result"
    }
   ],
   "source": [
    "df.head()"
   ]
  },
  {
   "cell_type": "code",
   "execution_count": 150,
   "metadata": {},
   "outputs": [
    {
     "data": {
      "text/plain": [
       "2217"
      ]
     },
     "execution_count": 150,
     "metadata": {},
     "output_type": "execute_result"
    }
   ],
   "source": [
    "df.quotetext.size"
   ]
  },
  {
   "cell_type": "markdown",
   "metadata": {},
   "source": [
    "find duplicated quotetexts, take the one with the most info"
   ]
  },
  {
   "cell_type": "code",
   "execution_count": 151,
   "metadata": {},
   "outputs": [],
   "source": [
    "df = df.sort_values(by=['character', 'title', 'author', 'year'], na_position='last')\n",
    "df = df.drop_duplicates(subset='quotetext', keep='last')"
   ]
  },
  {
   "cell_type": "code",
   "execution_count": 152,
   "metadata": {},
   "outputs": [
    {
     "data": {
      "text/html": [
       "<div>\n",
       "<style scoped>\n",
       "    .dataframe tbody tr th:only-of-type {\n",
       "        vertical-align: middle;\n",
       "    }\n",
       "\n",
       "    .dataframe tbody tr th {\n",
       "        vertical-align: top;\n",
       "    }\n",
       "\n",
       "    .dataframe thead th {\n",
       "        text-align: right;\n",
       "    }\n",
       "</style>\n",
       "<table border=\"1\" class=\"dataframe\">\n",
       "  <thead>\n",
       "    <tr style=\"text-align: right;\">\n",
       "      <th></th>\n",
       "      <th>quotetext</th>\n",
       "      <th>character</th>\n",
       "      <th>title</th>\n",
       "      <th>author</th>\n",
       "      <th>year</th>\n",
       "    </tr>\n",
       "  </thead>\n",
       "  <tbody>\n",
       "    <tr>\n",
       "      <th>1586</th>\n",
       "      <td>We relinquished our freedom that day, and we w...</td>\n",
       "      <td>NaN</td>\n",
       "      <td>World War Z: An Oral History of the Zombie War</td>\n",
       "      <td>Max Brooks</td>\n",
       "      <td>2006</td>\n",
       "    </tr>\n",
       "    <tr>\n",
       "      <th>578</th>\n",
       "      <td>I have to remind myself to breathe -- almost t...</td>\n",
       "      <td>NaN</td>\n",
       "      <td>Wuthering Heights</td>\n",
       "      <td>Emily Brontë</td>\n",
       "      <td>1847</td>\n",
       "    </tr>\n",
       "    <tr>\n",
       "      <th>579</th>\n",
       "      <td>It was not the thorn bending to the honeysuckl...</td>\n",
       "      <td>NaN</td>\n",
       "      <td>Wuthering Heights</td>\n",
       "      <td>Emily Brontë</td>\n",
       "      <td>1847</td>\n",
       "    </tr>\n",
       "    <tr>\n",
       "      <th>580</th>\n",
       "      <td>She burned too bright for this world.</td>\n",
       "      <td>NaN</td>\n",
       "      <td>Wuthering Heights</td>\n",
       "      <td>Emily Brontë</td>\n",
       "      <td>1847</td>\n",
       "    </tr>\n",
       "    <tr>\n",
       "      <th>581</th>\n",
       "      <td>Whatever our souls are made of, his and mine a...</td>\n",
       "      <td>NaN</td>\n",
       "      <td>Wuthering Heights</td>\n",
       "      <td>Emily Brontë</td>\n",
       "      <td>1847</td>\n",
       "    </tr>\n",
       "  </tbody>\n",
       "</table>\n",
       "</div>"
      ],
      "text/plain": [
       "                                              quotetext character  \\\n",
       "1586  We relinquished our freedom that day, and we w...       NaN   \n",
       "578   I have to remind myself to breathe -- almost t...       NaN   \n",
       "579   It was not the thorn bending to the honeysuckl...       NaN   \n",
       "580               She burned too bright for this world.       NaN   \n",
       "581   Whatever our souls are made of, his and mine a...       NaN   \n",
       "\n",
       "                                               title        author  year  \n",
       "1586  World War Z: An Oral History of the Zombie War    Max Brooks  2006  \n",
       "578                                Wuthering Heights  Emily Brontë  1847  \n",
       "579                                Wuthering Heights  Emily Brontë  1847  \n",
       "580                                Wuthering Heights  Emily Brontë  1847  \n",
       "581                                Wuthering Heights  Emily Brontë  1847  "
      ]
     },
     "execution_count": 152,
     "metadata": {},
     "output_type": "execute_result"
    }
   ],
   "source": [
    "df.tail(5)"
   ]
  },
  {
   "cell_type": "code",
   "execution_count": 153,
   "metadata": {},
   "outputs": [],
   "source": [
    "df = df.sort_values(by=['author', 'year', 'title', 'character', 'quotetext'], na_position='last')"
   ]
  },
  {
   "cell_type": "code",
   "execution_count": 154,
   "metadata": {},
   "outputs": [],
   "source": [
    "df.to_csv(\"quotes.csv\", index=False)\n"
   ]
  }
 ],
 "metadata": {
  "kernelspec": {
   "display_name": "Python 3",
   "language": "python",
   "name": "python3"
  },
  "language_info": {
   "codemirror_mode": {
    "name": "ipython",
    "version": 3
   },
   "file_extension": ".py",
   "mimetype": "text/x-python",
   "name": "python",
   "nbconvert_exporter": "python",
   "pygments_lexer": "ipython3",
   "version": "3.9.6"
  }
 },
 "nbformat": 4,
 "nbformat_minor": 2
}
