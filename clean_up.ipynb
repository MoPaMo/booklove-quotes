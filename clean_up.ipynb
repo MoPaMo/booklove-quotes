{
 "cells": [
  {
   "cell_type": "code",
   "execution_count": 13,
   "metadata": {},
   "outputs": [],
   "source": [
    "import pandas as pd\n",
    "import math"
   ]
  },
  {
   "cell_type": "code",
   "execution_count": 14,
   "metadata": {},
   "outputs": [],
   "source": [
    "df=pd.read_csv(\"quotes.csv\")"
   ]
  },
  {
   "cell_type": "code",
   "execution_count": 15,
   "metadata": {},
   "outputs": [
    {
     "data": {
      "text/html": [
       "<div>\n",
       "<style scoped>\n",
       "    .dataframe tbody tr th:only-of-type {\n",
       "        vertical-align: middle;\n",
       "    }\n",
       "\n",
       "    .dataframe tbody tr th {\n",
       "        vertical-align: top;\n",
       "    }\n",
       "\n",
       "    .dataframe thead th {\n",
       "        text-align: right;\n",
       "    }\n",
       "</style>\n",
       "<table border=\"1\" class=\"dataframe\">\n",
       "  <thead>\n",
       "    <tr style=\"text-align: right;\">\n",
       "      <th></th>\n",
       "      <th>quotetext</th>\n",
       "      <th>character</th>\n",
       "      <th>title</th>\n",
       "      <th>author</th>\n",
       "      <th>year</th>\n",
       "    </tr>\n",
       "  </thead>\n",
       "  <tbody>\n",
       "    <tr>\n",
       "      <th>0</th>\n",
       "      <td>Maybe 'okay' will be our 'always.</td>\n",
       "      <td>NaN</td>\n",
       "      <td>'The Fault in Our Stars'</td>\n",
       "      <td>'John Green'</td>\n",
       "      <td>2012</td>\n",
       "    </tr>\n",
       "    <tr>\n",
       "      <th>1</th>\n",
       "      <td>I wonder what Piglet is doing. I wish I were t...</td>\n",
       "      <td>Pooh</td>\n",
       "      <td>Winnie-the-Pooh</td>\n",
       "      <td>A.A. Milne</td>\n",
       "      <td>1926</td>\n",
       "    </tr>\n",
       "    <tr>\n",
       "      <th>2</th>\n",
       "      <td>Anarchy means 'without leaders', not 'without ...</td>\n",
       "      <td>V</td>\n",
       "      <td>V for Vendetta</td>\n",
       "      <td>Alan Moore</td>\n",
       "      <td>1982</td>\n",
       "    </tr>\n",
       "    <tr>\n",
       "      <th>3</th>\n",
       "      <td>Everybody is special. Everybody. Everybody is ...</td>\n",
       "      <td>V</td>\n",
       "      <td>V for Vendetta</td>\n",
       "      <td>Alan Moore</td>\n",
       "      <td>1982</td>\n",
       "    </tr>\n",
       "    <tr>\n",
       "      <th>4</th>\n",
       "      <td>Happiness is a prison, Evey. Happiness is the ...</td>\n",
       "      <td>V</td>\n",
       "      <td>V for Vendetta</td>\n",
       "      <td>Alan Moore</td>\n",
       "      <td>1982</td>\n",
       "    </tr>\n",
       "  </tbody>\n",
       "</table>\n",
       "</div>"
      ],
      "text/plain": [
       "                                           quotetext character  \\\n",
       "0                  Maybe 'okay' will be our 'always.       NaN   \n",
       "1  I wonder what Piglet is doing. I wish I were t...      Pooh   \n",
       "2  Anarchy means 'without leaders', not 'without ...         V   \n",
       "3  Everybody is special. Everybody. Everybody is ...         V   \n",
       "4  Happiness is a prison, Evey. Happiness is the ...         V   \n",
       "\n",
       "                      title        author  year  \n",
       "0  'The Fault in Our Stars'  'John Green'  2012  \n",
       "1           Winnie-the-Pooh    A.A. Milne  1926  \n",
       "2            V for Vendetta    Alan Moore  1982  \n",
       "3            V for Vendetta    Alan Moore  1982  \n",
       "4            V for Vendetta    Alan Moore  1982  "
      ]
     },
     "execution_count": 15,
     "metadata": {},
     "output_type": "execute_result"
    }
   ],
   "source": [
    "df.head()"
   ]
  },
  {
   "cell_type": "markdown",
   "metadata": {},
   "source": [
    "remove duplicates"
   ]
  },
  {
   "cell_type": "code",
   "execution_count": 16,
   "metadata": {},
   "outputs": [],
   "source": [
    "df = df.drop_duplicates()"
   ]
  },
  {
   "cell_type": "code",
   "execution_count": 17,
   "metadata": {},
   "outputs": [
    {
     "data": {
      "text/html": [
       "<div>\n",
       "<style scoped>\n",
       "    .dataframe tbody tr th:only-of-type {\n",
       "        vertical-align: middle;\n",
       "    }\n",
       "\n",
       "    .dataframe tbody tr th {\n",
       "        vertical-align: top;\n",
       "    }\n",
       "\n",
       "    .dataframe thead th {\n",
       "        text-align: right;\n",
       "    }\n",
       "</style>\n",
       "<table border=\"1\" class=\"dataframe\">\n",
       "  <thead>\n",
       "    <tr style=\"text-align: right;\">\n",
       "      <th></th>\n",
       "      <th>quotetext</th>\n",
       "      <th>character</th>\n",
       "      <th>title</th>\n",
       "      <th>author</th>\n",
       "      <th>year</th>\n",
       "    </tr>\n",
       "  </thead>\n",
       "  <tbody>\n",
       "    <tr>\n",
       "      <th>0</th>\n",
       "      <td>Maybe 'okay' will be our 'always.</td>\n",
       "      <td>NaN</td>\n",
       "      <td>'The Fault in Our Stars'</td>\n",
       "      <td>'John Green'</td>\n",
       "      <td>2012</td>\n",
       "    </tr>\n",
       "    <tr>\n",
       "      <th>1</th>\n",
       "      <td>I wonder what Piglet is doing. I wish I were t...</td>\n",
       "      <td>Pooh</td>\n",
       "      <td>Winnie-the-Pooh</td>\n",
       "      <td>A.A. Milne</td>\n",
       "      <td>1926</td>\n",
       "    </tr>\n",
       "    <tr>\n",
       "      <th>2</th>\n",
       "      <td>Anarchy means 'without leaders', not 'without ...</td>\n",
       "      <td>V</td>\n",
       "      <td>V for Vendetta</td>\n",
       "      <td>Alan Moore</td>\n",
       "      <td>1982</td>\n",
       "    </tr>\n",
       "    <tr>\n",
       "      <th>3</th>\n",
       "      <td>Everybody is special. Everybody. Everybody is ...</td>\n",
       "      <td>V</td>\n",
       "      <td>V for Vendetta</td>\n",
       "      <td>Alan Moore</td>\n",
       "      <td>1982</td>\n",
       "    </tr>\n",
       "    <tr>\n",
       "      <th>4</th>\n",
       "      <td>Happiness is a prison, Evey. Happiness is the ...</td>\n",
       "      <td>V</td>\n",
       "      <td>V for Vendetta</td>\n",
       "      <td>Alan Moore</td>\n",
       "      <td>1982</td>\n",
       "    </tr>\n",
       "  </tbody>\n",
       "</table>\n",
       "</div>"
      ],
      "text/plain": [
       "                                           quotetext character  \\\n",
       "0                  Maybe 'okay' will be our 'always.       NaN   \n",
       "1  I wonder what Piglet is doing. I wish I were t...      Pooh   \n",
       "2  Anarchy means 'without leaders', not 'without ...         V   \n",
       "3  Everybody is special. Everybody. Everybody is ...         V   \n",
       "4  Happiness is a prison, Evey. Happiness is the ...         V   \n",
       "\n",
       "                      title        author  year  \n",
       "0  'The Fault in Our Stars'  'John Green'  2012  \n",
       "1           Winnie-the-Pooh    A.A. Milne  1926  \n",
       "2            V for Vendetta    Alan Moore  1982  \n",
       "3            V for Vendetta    Alan Moore  1982  \n",
       "4            V for Vendetta    Alan Moore  1982  "
      ]
     },
     "execution_count": 17,
     "metadata": {},
     "output_type": "execute_result"
    }
   ],
   "source": [
    "df.head()"
   ]
  },
  {
   "cell_type": "code",
   "execution_count": 18,
   "metadata": {},
   "outputs": [
    {
     "data": {
      "text/plain": [
       "1598"
      ]
     },
     "execution_count": 18,
     "metadata": {},
     "output_type": "execute_result"
    }
   ],
   "source": [
    "df.quotetext.size"
   ]
  },
  {
   "cell_type": "markdown",
   "metadata": {},
   "source": [
    "find duplicated quotetexts, take the one with the most info"
   ]
  },
  {
   "cell_type": "code",
   "execution_count": 19,
   "metadata": {},
   "outputs": [],
   "source": [
    "df = df.sort_values(by=['character', 'title', 'author', 'year'], na_position='last')\n",
    "df = df.drop_duplicates(subset='quotetext', keep='last')"
   ]
  },
  {
   "cell_type": "code",
   "execution_count": 20,
   "metadata": {},
   "outputs": [
    {
     "data": {
      "text/html": [
       "<div>\n",
       "<style scoped>\n",
       "    .dataframe tbody tr th:only-of-type {\n",
       "        vertical-align: middle;\n",
       "    }\n",
       "\n",
       "    .dataframe tbody tr th {\n",
       "        vertical-align: top;\n",
       "    }\n",
       "\n",
       "    .dataframe thead th {\n",
       "        text-align: right;\n",
       "    }\n",
       "</style>\n",
       "<table border=\"1\" class=\"dataframe\">\n",
       "  <thead>\n",
       "    <tr style=\"text-align: right;\">\n",
       "      <th></th>\n",
       "      <th>quotetext</th>\n",
       "      <th>character</th>\n",
       "      <th>title</th>\n",
       "      <th>author</th>\n",
       "      <th>year</th>\n",
       "    </tr>\n",
       "  </thead>\n",
       "  <tbody>\n",
       "    <tr>\n",
       "      <th>1132</th>\n",
       "      <td>We relinquished our freedom that day, and we w...</td>\n",
       "      <td>NaN</td>\n",
       "      <td>World War Z: An Oral History of the Zombie War</td>\n",
       "      <td>Max Brooks</td>\n",
       "      <td>2006</td>\n",
       "    </tr>\n",
       "    <tr>\n",
       "      <th>397</th>\n",
       "      <td>I have to remind myself to breathe -- almost t...</td>\n",
       "      <td>NaN</td>\n",
       "      <td>Wuthering Heights</td>\n",
       "      <td>Emily Brontë</td>\n",
       "      <td>1847</td>\n",
       "    </tr>\n",
       "    <tr>\n",
       "      <th>398</th>\n",
       "      <td>It was not the thorn bending to the honeysuckl...</td>\n",
       "      <td>NaN</td>\n",
       "      <td>Wuthering Heights</td>\n",
       "      <td>Emily Brontë</td>\n",
       "      <td>1847</td>\n",
       "    </tr>\n",
       "    <tr>\n",
       "      <th>399</th>\n",
       "      <td>She burned too bright for this world.</td>\n",
       "      <td>NaN</td>\n",
       "      <td>Wuthering Heights</td>\n",
       "      <td>Emily Brontë</td>\n",
       "      <td>1847</td>\n",
       "    </tr>\n",
       "    <tr>\n",
       "      <th>400</th>\n",
       "      <td>Whatever our souls are made of, his and mine a...</td>\n",
       "      <td>NaN</td>\n",
       "      <td>Wuthering Heights</td>\n",
       "      <td>Emily Brontë</td>\n",
       "      <td>1847</td>\n",
       "    </tr>\n",
       "  </tbody>\n",
       "</table>\n",
       "</div>"
      ],
      "text/plain": [
       "                                              quotetext character  \\\n",
       "1132  We relinquished our freedom that day, and we w...       NaN   \n",
       "397   I have to remind myself to breathe -- almost t...       NaN   \n",
       "398   It was not the thorn bending to the honeysuckl...       NaN   \n",
       "399               She burned too bright for this world.       NaN   \n",
       "400   Whatever our souls are made of, his and mine a...       NaN   \n",
       "\n",
       "                                               title        author  year  \n",
       "1132  World War Z: An Oral History of the Zombie War    Max Brooks  2006  \n",
       "397                                Wuthering Heights  Emily Brontë  1847  \n",
       "398                                Wuthering Heights  Emily Brontë  1847  \n",
       "399                                Wuthering Heights  Emily Brontë  1847  \n",
       "400                                Wuthering Heights  Emily Brontë  1847  "
      ]
     },
     "execution_count": 20,
     "metadata": {},
     "output_type": "execute_result"
    }
   ],
   "source": [
    "df.tail(5)"
   ]
  },
  {
   "cell_type": "code",
   "execution_count": 21,
   "metadata": {},
   "outputs": [],
   "source": [
    "df = df.sort_values(by=['author', 'year', 'title', 'character', 'quotetext'], na_position='last')"
   ]
  },
  {
   "cell_type": "code",
   "execution_count": 22,
   "metadata": {},
   "outputs": [],
   "source": [
    "df.to_csv(\"quotes.csv\", index=False)\n"
   ]
  }
 ],
 "metadata": {
  "kernelspec": {
   "display_name": "Python 3",
   "language": "python",
   "name": "python3"
  },
  "language_info": {
   "codemirror_mode": {
    "name": "ipython",
    "version": 3
   },
   "file_extension": ".py",
   "mimetype": "text/x-python",
   "name": "python",
   "nbconvert_exporter": "python",
   "pygments_lexer": "ipython3",
   "version": "3.9.6"
  }
 },
 "nbformat": 4,
 "nbformat_minor": 2
}
