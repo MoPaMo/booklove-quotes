{
 "cells": [
  {
   "cell_type": "code",
   "execution_count": 2,
   "metadata": {},
   "outputs": [],
   "source": [
    "import pandas as pd\n",
    "import math"
   ]
  },
  {
   "cell_type": "code",
   "execution_count": 3,
   "metadata": {},
   "outputs": [],
   "source": [
    "df=pd.read_csv(\"quotes.csv\")"
   ]
  },
  {
   "cell_type": "code",
   "execution_count": 4,
   "metadata": {},
   "outputs": [
    {
     "data": {
      "text/html": [
       "<div>\n",
       "<style scoped>\n",
       "    .dataframe tbody tr th:only-of-type {\n",
       "        vertical-align: middle;\n",
       "    }\n",
       "\n",
       "    .dataframe tbody tr th {\n",
       "        vertical-align: top;\n",
       "    }\n",
       "\n",
       "    .dataframe thead th {\n",
       "        text-align: right;\n",
       "    }\n",
       "</style>\n",
       "<table border=\"1\" class=\"dataframe\">\n",
       "  <thead>\n",
       "    <tr style=\"text-align: right;\">\n",
       "      <th></th>\n",
       "      <th>quotetext</th>\n",
       "      <th>character</th>\n",
       "      <th>title</th>\n",
       "      <th>author</th>\n",
       "      <th>year</th>\n",
       "    </tr>\n",
       "  </thead>\n",
       "  <tbody>\n",
       "    <tr>\n",
       "      <th>0</th>\n",
       "      <td>Maybe 'okay' will be our 'always.</td>\n",
       "      <td>NaN</td>\n",
       "      <td>'The Fault in Our Stars'</td>\n",
       "      <td>'John Green'</td>\n",
       "      <td>2012</td>\n",
       "    </tr>\n",
       "    <tr>\n",
       "      <th>1</th>\n",
       "      <td>'I wonder what Piglet is doing,' thought Pooh....</td>\n",
       "      <td>NaN</td>\n",
       "      <td>Winnie-the-Pooh</td>\n",
       "      <td>A.A. Milne</td>\n",
       "      <td>1926</td>\n",
       "    </tr>\n",
       "    <tr>\n",
       "      <th>2</th>\n",
       "      <td>Anarchy means 'without leaders', not 'without ...</td>\n",
       "      <td>V</td>\n",
       "      <td>V for Vendetta</td>\n",
       "      <td>Alan Moore</td>\n",
       "      <td>1982</td>\n",
       "    </tr>\n",
       "    <tr>\n",
       "      <th>3</th>\n",
       "      <td>Everybody is special. Everybody. Everybody is ...</td>\n",
       "      <td>V</td>\n",
       "      <td>V for Vendetta</td>\n",
       "      <td>Alan Moore</td>\n",
       "      <td>1982</td>\n",
       "    </tr>\n",
       "    <tr>\n",
       "      <th>4</th>\n",
       "      <td>Happiness is a prison, Evey. Happiness is the ...</td>\n",
       "      <td>V</td>\n",
       "      <td>V for Vendetta</td>\n",
       "      <td>Alan Moore</td>\n",
       "      <td>1982</td>\n",
       "    </tr>\n",
       "  </tbody>\n",
       "</table>\n",
       "</div>"
      ],
      "text/plain": [
       "                                           quotetext character  \\\n",
       "0                  Maybe 'okay' will be our 'always.       NaN   \n",
       "1  'I wonder what Piglet is doing,' thought Pooh....       NaN   \n",
       "2  Anarchy means 'without leaders', not 'without ...         V   \n",
       "3  Everybody is special. Everybody. Everybody is ...         V   \n",
       "4  Happiness is a prison, Evey. Happiness is the ...         V   \n",
       "\n",
       "                      title        author  year  \n",
       "0  'The Fault in Our Stars'  'John Green'  2012  \n",
       "1           Winnie-the-Pooh    A.A. Milne  1926  \n",
       "2            V for Vendetta    Alan Moore  1982  \n",
       "3            V for Vendetta    Alan Moore  1982  \n",
       "4            V for Vendetta    Alan Moore  1982  "
      ]
     },
     "execution_count": 4,
     "metadata": {},
     "output_type": "execute_result"
    }
   ],
   "source": [
    "df.head()"
   ]
  }
 ],
 "metadata": {
  "kernelspec": {
   "display_name": "Python 3",
   "language": "python",
   "name": "python3"
  },
  "language_info": {
   "codemirror_mode": {
    "name": "ipython",
    "version": 3
   },
   "file_extension": ".py",
   "mimetype": "text/x-python",
   "name": "python",
   "nbconvert_exporter": "python",
   "pygments_lexer": "ipython3",
   "version": "3.9.6"
  }
 },
 "nbformat": 4,
 "nbformat_minor": 2
}
